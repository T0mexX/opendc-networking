{
 "cells": [
  {
   "cell_type": "code",
   "execution_count": 1,
   "id": "18170001",
   "metadata": {},
   "outputs": [],
   "source": [
    "import numpy as np\n",
    "import pandas as pd\n",
    "import matplotlib.pyplot as plt\n",
    "\n",
    "from IPython.display import display, HTML\n",
    "\n",
    "base_folder = \"../\""
   ]
  },
  {
   "cell_type": "markdown",
   "id": "422f4d05",
   "metadata": {},
   "source": [
    "## Topologies"
   ]
  },
  {
   "cell_type": "code",
   "execution_count": 2,
   "id": "a2d05361",
   "metadata": {},
   "outputs": [
    {
     "name": "stdout",
     "output_type": "stream",
     "text": [
      "Topology name: multi\n"
     ]
    },
    {
     "data": {
      "text/html": [
       "<table border=\"1\" class=\"dataframe\">\n",
       "  <thead>\n",
       "    <tr style=\"text-align: right;\">\n",
       "      <th></th>\n",
       "      <th>ClusterID</th>\n",
       "      <th>ClusterName</th>\n",
       "      <th>Cores</th>\n",
       "      <th>Speed</th>\n",
       "      <th>Memory</th>\n",
       "      <th>numberOfHosts</th>\n",
       "      <th>memoryCapacityPerHost</th>\n",
       "      <th>coreCountPerHost</th>\n",
       "    </tr>\n",
       "  </thead>\n",
       "  <tbody>\n",
       "    <tr>\n",
       "      <th>0</th>\n",
       "      <td>A01</td>\n",
       "      <td>A01</td>\n",
       "      <td>32</td>\n",
       "      <td>3.20</td>\n",
       "      <td>2048</td>\n",
       "      <td>1</td>\n",
       "      <td>256</td>\n",
       "      <td>32</td>\n",
       "    </tr>\n",
       "    <tr>\n",
       "      <th>1</th>\n",
       "      <td>B01</td>\n",
       "      <td>B01</td>\n",
       "      <td>48</td>\n",
       "      <td>2.93</td>\n",
       "      <td>1256</td>\n",
       "      <td>6</td>\n",
       "      <td>64</td>\n",
       "      <td>8</td>\n",
       "    </tr>\n",
       "    <tr>\n",
       "      <th>2</th>\n",
       "      <td>C01</td>\n",
       "      <td>C01</td>\n",
       "      <td>32</td>\n",
       "      <td>3.20</td>\n",
       "      <td>2048</td>\n",
       "      <td>2</td>\n",
       "      <td>128</td>\n",
       "      <td>16</td>\n",
       "    </tr>\n",
       "  </tbody>\n",
       "</table>"
      ],
      "text/plain": [
       "<IPython.core.display.HTML object>"
      ]
     },
     "metadata": {},
     "output_type": "display_data"
    },
    {
     "name": "stdout",
     "output_type": "stream",
     "text": [
      "Topology name: single\n"
     ]
    },
    {
     "data": {
      "text/html": [
       "<table border=\"1\" class=\"dataframe\">\n",
       "  <thead>\n",
       "    <tr style=\"text-align: right;\">\n",
       "      <th></th>\n",
       "      <th>ClusterID</th>\n",
       "      <th>ClusterName</th>\n",
       "      <th>Cores</th>\n",
       "      <th>Speed</th>\n",
       "      <th>Memory</th>\n",
       "      <th>numberOfHosts</th>\n",
       "      <th>memoryCapacityPerHost</th>\n",
       "      <th>coreCountPerHost</th>\n",
       "    </tr>\n",
       "  </thead>\n",
       "  <tbody>\n",
       "    <tr>\n",
       "      <th>0</th>\n",
       "      <td>A01</td>\n",
       "      <td>A01</td>\n",
       "      <td>8</td>\n",
       "      <td>3.2</td>\n",
       "      <td>128</td>\n",
       "      <td>1</td>\n",
       "      <td>128</td>\n",
       "      <td>8</td>\n",
       "    </tr>\n",
       "  </tbody>\n",
       "</table>"
      ],
      "text/plain": [
       "<IPython.core.display.HTML object>"
      ]
     },
     "metadata": {},
     "output_type": "display_data"
    }
   ],
   "source": [
    "def read_topology(topology_name):\n",
    "    print(f\"Topology name: {topology_name}\")\n",
    "    df = pd.read_csv(f\"{base_folder}/resources/env/{topology_name}.txt\", delimiter=\";\")\n",
    "    display(HTML(df.to_html()))\n",
    "        \n",
    "read_topology(\"multi\")\n",
    "read_topology(\"single\")"
   ]
  },
  {
   "cell_type": "markdown",
   "id": "8f4fe54d",
   "metadata": {},
   "source": [
    "## Traces"
   ]
  },
  {
   "cell_type": "code",
   "execution_count": 2,
   "id": "fd17d88a",
   "metadata": {},
   "outputs": [
    {
     "data": {
      "text/html": [
       "<div>\n",
       "<style scoped>\n",
       "    .dataframe tbody tr th:only-of-type {\n",
       "        vertical-align: middle;\n",
       "    }\n",
       "\n",
       "    .dataframe tbody tr th {\n",
       "        vertical-align: top;\n",
       "    }\n",
       "\n",
       "    .dataframe thead th {\n",
       "        text-align: right;\n",
       "    }\n",
       "</style>\n",
       "<table border=\"1\" class=\"dataframe\">\n",
       "  <thead>\n",
       "    <tr style=\"text-align: right;\">\n",
       "      <th></th>\n",
       "      <th>id</th>\n",
       "      <th>timestamp</th>\n",
       "      <th>duration</th>\n",
       "      <th>cpu_count</th>\n",
       "      <th>cpu_usage</th>\n",
       "    </tr>\n",
       "  </thead>\n",
       "  <tbody>\n",
       "    <tr>\n",
       "      <th>0</th>\n",
       "      <td>1019</td>\n",
       "      <td>2013-08-12 13:40:46+00:00</td>\n",
       "      <td>300000</td>\n",
       "      <td>1</td>\n",
       "      <td>0.000000</td>\n",
       "    </tr>\n",
       "    <tr>\n",
       "      <th>1</th>\n",
       "      <td>1019</td>\n",
       "      <td>2013-08-12 13:45:46+00:00</td>\n",
       "      <td>300000</td>\n",
       "      <td>1</td>\n",
       "      <td>11.703998</td>\n",
       "    </tr>\n",
       "    <tr>\n",
       "      <th>2</th>\n",
       "      <td>1019</td>\n",
       "      <td>2013-08-12 13:55:46+00:00</td>\n",
       "      <td>600000</td>\n",
       "      <td>1</td>\n",
       "      <td>0.000000</td>\n",
       "    </tr>\n",
       "    <tr>\n",
       "      <th>3</th>\n",
       "      <td>1019</td>\n",
       "      <td>2013-08-12 14:00:46+00:00</td>\n",
       "      <td>300000</td>\n",
       "      <td>1</td>\n",
       "      <td>11.703998</td>\n",
       "    </tr>\n",
       "    <tr>\n",
       "      <th>4</th>\n",
       "      <td>1019</td>\n",
       "      <td>2013-08-12 14:15:46+00:00</td>\n",
       "      <td>900000</td>\n",
       "      <td>1</td>\n",
       "      <td>0.000000</td>\n",
       "    </tr>\n",
       "  </tbody>\n",
       "</table>\n",
       "</div>"
      ],
      "text/plain": [
       "     id                 timestamp  duration  cpu_count  cpu_usage\n",
       "0  1019 2013-08-12 13:40:46+00:00    300000          1   0.000000\n",
       "1  1019 2013-08-12 13:45:46+00:00    300000          1  11.703998\n",
       "2  1019 2013-08-12 13:55:46+00:00    600000          1   0.000000\n",
       "3  1019 2013-08-12 14:00:46+00:00    300000          1  11.703998\n",
       "4  1019 2013-08-12 14:15:46+00:00    900000          1   0.000000"
      ]
     },
     "execution_count": 2,
     "metadata": {},
     "output_type": "execute_result"
    }
   ],
   "source": [
    "df_trace = pd.read_parquet(f\"{base_folder}/resources/bitbrains-small/trace/trace.parquet\")\n",
    "df_trace.head()"
   ]
  },
  {
   "cell_type": "code",
   "execution_count": 10,
   "id": "346f097f",
   "metadata": {
    "scrolled": true
   },
   "outputs": [
    {
     "data": {
      "text/html": [
       "<div>\n",
       "<style scoped>\n",
       "    .dataframe tbody tr th:only-of-type {\n",
       "        vertical-align: middle;\n",
       "    }\n",
       "\n",
       "    .dataframe tbody tr th {\n",
       "        vertical-align: top;\n",
       "    }\n",
       "\n",
       "    .dataframe thead th {\n",
       "        text-align: right;\n",
       "    }\n",
       "</style>\n",
       "<table border=\"1\" class=\"dataframe\">\n",
       "  <thead>\n",
       "    <tr style=\"text-align: right;\">\n",
       "      <th></th>\n",
       "      <th>id</th>\n",
       "      <th>start_time</th>\n",
       "      <th>stop_time</th>\n",
       "      <th>cpu_count</th>\n",
       "      <th>cpu_capacity</th>\n",
       "      <th>mem_capacity</th>\n",
       "    </tr>\n",
       "  </thead>\n",
       "  <tbody>\n",
       "    <tr>\n",
       "      <th>0</th>\n",
       "      <td>1019</td>\n",
       "      <td>2013-08-12 13:35:46+00:00</td>\n",
       "      <td>2013-09-11 13:39:58+00:00</td>\n",
       "      <td>1</td>\n",
       "      <td>2926.000135</td>\n",
       "      <td>181352</td>\n",
       "    </tr>\n",
       "    <tr>\n",
       "      <th>1</th>\n",
       "      <td>1023</td>\n",
       "      <td>2013-08-12 13:35:46+00:00</td>\n",
       "      <td>2013-09-11 13:39:58+00:00</td>\n",
       "      <td>1</td>\n",
       "      <td>2925.999560</td>\n",
       "      <td>260096</td>\n",
       "    </tr>\n",
       "    <tr>\n",
       "      <th>2</th>\n",
       "      <td>1026</td>\n",
       "      <td>2013-08-12 13:35:46+00:00</td>\n",
       "      <td>2013-09-11 13:39:58+00:00</td>\n",
       "      <td>1</td>\n",
       "      <td>2925.999717</td>\n",
       "      <td>249972</td>\n",
       "    </tr>\n",
       "    <tr>\n",
       "      <th>3</th>\n",
       "      <td>1052</td>\n",
       "      <td>2013-08-29 14:38:12+00:00</td>\n",
       "      <td>2013-09-05 07:09:07+00:00</td>\n",
       "      <td>1</td>\n",
       "      <td>2926.000107</td>\n",
       "      <td>131245</td>\n",
       "    </tr>\n",
       "    <tr>\n",
       "      <th>4</th>\n",
       "      <td>1073</td>\n",
       "      <td>2013-08-21 11:07:12+00:00</td>\n",
       "      <td>2013-09-11 13:39:58+00:00</td>\n",
       "      <td>1</td>\n",
       "      <td>2599.999649</td>\n",
       "      <td>179306</td>\n",
       "    </tr>\n",
       "  </tbody>\n",
       "</table>\n",
       "</div>"
      ],
      "text/plain": [
       "     id                start_time                 stop_time  cpu_count  \\\n",
       "0  1019 2013-08-12 13:35:46+00:00 2013-09-11 13:39:58+00:00          1   \n",
       "1  1023 2013-08-12 13:35:46+00:00 2013-09-11 13:39:58+00:00          1   \n",
       "2  1026 2013-08-12 13:35:46+00:00 2013-09-11 13:39:58+00:00          1   \n",
       "3  1052 2013-08-29 14:38:12+00:00 2013-09-05 07:09:07+00:00          1   \n",
       "4  1073 2013-08-21 11:07:12+00:00 2013-09-11 13:39:58+00:00          1   \n",
       "\n",
       "   cpu_capacity  mem_capacity  \n",
       "0   2926.000135        181352  \n",
       "1   2925.999560        260096  \n",
       "2   2925.999717        249972  \n",
       "3   2926.000107        131245  \n",
       "4   2599.999649        179306  "
      ]
     },
     "execution_count": 10,
     "metadata": {},
     "output_type": "execute_result"
    }
   ],
   "source": [
    "df_meta = pd.read_parquet(f\"{base_folder}/resources/bitbrains-small/trace/meta.parquet\")\n",
    "df_meta.head()"
   ]
  },
  {
   "cell_type": "markdown",
   "id": "13bf9fdb",
   "metadata": {},
   "source": [
    "# Lets run this in OpenDC!"
   ]
  },
  {
   "cell_type": "markdown",
   "id": "c9766446",
   "metadata": {},
   "source": [
    "## Resulting Files"
   ]
  },
  {
   "cell_type": "code",
   "execution_count": 2,
   "id": "0d400ffd",
   "metadata": {},
   "outputs": [],
   "source": [
    "output_folder = f\"{base_folder}output\"\n",
    "workload = \"workload=bitbrains-small\"\n",
    "seed = \"seed=1\"\n",
    "\n",
    "df_host_single = pd.read_parquet(f\"{output_folder}/with-net-new-new/raw-output/0/{seed}/host.parquet\")\n",
    "# df_host_multi = pd.read_parquet(f\"{output_folder}/topology=multi/{workload}/{seed}/host.parquet\")\n",
    "\n",
    "df_server_single = pd.read_parquet(f\"{output_folder}/with-net-new-new/raw-output/0/{seed}/server.parquet\")\n",
    "# df_server_multi = pd.read_parquet(f\"{output_folder}/topology=multi/{workload}/{seed}/server.parquet\")\n",
    "\n",
    "df_service_single = pd.read_parquet(f\"{output_folder}/with-net-new-new/raw-output/0/{seed}/service.parquet\")\n",
    "# df_service_multi = pd.read_parquet(f\"{output_folder}/topology=multi/{workload}/{seed}/service.parquet\")\n",
    "\n",
    "# def add_absolute_timestamp(df, start_dt):\n",
    "#     df[\"absolute_timestamp\"] = start_dt + (df[\"timestamp\"] - df[\"timestamp\"].min())\n",
    "\n",
    "# add_absolute_timestamp(df_host_single, df_meta[\"start_time\"].min())\n",
    "# add_absolute_timestamp(df_host_single, df_meta[\"start_time\"].min())\n",
    "\n",
    "# add_absolute_timestamp(df_server_single, df_meta[\"start_time\"].min())\n",
    "# add_absolute_timestamp(df_server_multi, df_meta[\"start_time\"].min())\n",
    "\n",
    "# add_absolute_timestamp(df_service_single, df_meta[\"start_time\"].min())\n",
    "# add_absolute_timestamp(df_service_multi, df_meta[\"start_time\"].min())"
   ]
  },
  {
   "cell_type": "code",
   "execution_count": 3,
   "id": "a9a61332",
   "metadata": {},
   "outputs": [
    {
     "data": {
      "text/html": [
       "<div>\n",
       "<style scoped>\n",
       "    .dataframe tbody tr th:only-of-type {\n",
       "        vertical-align: middle;\n",
       "    }\n",
       "\n",
       "    .dataframe tbody tr th {\n",
       "        vertical-align: top;\n",
       "    }\n",
       "\n",
       "    .dataframe thead th {\n",
       "        text-align: right;\n",
       "    }\n",
       "</style>\n",
       "<table border=\"1\" class=\"dataframe\">\n",
       "  <thead>\n",
       "    <tr style=\"text-align: right;\">\n",
       "      <th></th>\n",
       "      <th>timestamp</th>\n",
       "      <th>timestamp_absolute</th>\n",
       "      <th>host_id</th>\n",
       "      <th>host_name</th>\n",
       "      <th>cpu_count</th>\n",
       "      <th>mem_capacity</th>\n",
       "      <th>guests_terminated</th>\n",
       "      <th>guests_running</th>\n",
       "      <th>guests_error</th>\n",
       "      <th>guests_invalid</th>\n",
       "      <th>...</th>\n",
       "      <th>cpu_time_steal</th>\n",
       "      <th>cpu_time_lost</th>\n",
       "      <th>power_draw</th>\n",
       "      <th>energy_usage</th>\n",
       "      <th>carbon_intensity</th>\n",
       "      <th>carbon_emission</th>\n",
       "      <th>uptime</th>\n",
       "      <th>downtime</th>\n",
       "      <th>boot_time</th>\n",
       "      <th>boot_time_absolute</th>\n",
       "    </tr>\n",
       "  </thead>\n",
       "  <tbody>\n",
       "    <tr>\n",
       "      <th>0</th>\n",
       "      <td>300000</td>\n",
       "      <td>1376314846000</td>\n",
       "      <td>bb1ad573-19b8-9cd8-0000-000000000000</td>\n",
       "      <td>H01</td>\n",
       "      <td>1</td>\n",
       "      <td>128000</td>\n",
       "      <td>0</td>\n",
       "      <td>7</td>\n",
       "      <td>0</td>\n",
       "      <td>0</td>\n",
       "      <td>...</td>\n",
       "      <td>5</td>\n",
       "      <td>0</td>\n",
       "      <td>200.375854</td>\n",
       "      <td>60112.955856</td>\n",
       "      <td>0.0</td>\n",
       "      <td>0.0</td>\n",
       "      <td>300000</td>\n",
       "      <td>0</td>\n",
       "      <td>1376314546000</td>\n",
       "      <td>NaN</td>\n",
       "    </tr>\n",
       "    <tr>\n",
       "      <th>1</th>\n",
       "      <td>600000</td>\n",
       "      <td>1376315146000</td>\n",
       "      <td>bb1ad573-19b8-9cd8-0000-000000000000</td>\n",
       "      <td>H01</td>\n",
       "      <td>1</td>\n",
       "      <td>128000</td>\n",
       "      <td>0</td>\n",
       "      <td>7</td>\n",
       "      <td>0</td>\n",
       "      <td>0</td>\n",
       "      <td>...</td>\n",
       "      <td>0</td>\n",
       "      <td>0</td>\n",
       "      <td>200.697541</td>\n",
       "      <td>60209.262443</td>\n",
       "      <td>0.0</td>\n",
       "      <td>0.0</td>\n",
       "      <td>300000</td>\n",
       "      <td>0</td>\n",
       "      <td>1376314546000</td>\n",
       "      <td>NaN</td>\n",
       "    </tr>\n",
       "    <tr>\n",
       "      <th>2</th>\n",
       "      <td>900000</td>\n",
       "      <td>1376315446000</td>\n",
       "      <td>bb1ad573-19b8-9cd8-0000-000000000000</td>\n",
       "      <td>H01</td>\n",
       "      <td>1</td>\n",
       "      <td>128000</td>\n",
       "      <td>0</td>\n",
       "      <td>7</td>\n",
       "      <td>0</td>\n",
       "      <td>0</td>\n",
       "      <td>...</td>\n",
       "      <td>0</td>\n",
       "      <td>0</td>\n",
       "      <td>200.460500</td>\n",
       "      <td>60138.149947</td>\n",
       "      <td>0.0</td>\n",
       "      <td>0.0</td>\n",
       "      <td>300000</td>\n",
       "      <td>0</td>\n",
       "      <td>1376314546000</td>\n",
       "      <td>NaN</td>\n",
       "    </tr>\n",
       "    <tr>\n",
       "      <th>3</th>\n",
       "      <td>1200000</td>\n",
       "      <td>1376315746000</td>\n",
       "      <td>bb1ad573-19b8-9cd8-0000-000000000000</td>\n",
       "      <td>H01</td>\n",
       "      <td>1</td>\n",
       "      <td>128000</td>\n",
       "      <td>0</td>\n",
       "      <td>7</td>\n",
       "      <td>0</td>\n",
       "      <td>0</td>\n",
       "      <td>...</td>\n",
       "      <td>0</td>\n",
       "      <td>0</td>\n",
       "      <td>200.558729</td>\n",
       "      <td>60167.618680</td>\n",
       "      <td>0.0</td>\n",
       "      <td>0.0</td>\n",
       "      <td>300000</td>\n",
       "      <td>0</td>\n",
       "      <td>1376314546000</td>\n",
       "      <td>NaN</td>\n",
       "    </tr>\n",
       "    <tr>\n",
       "      <th>4</th>\n",
       "      <td>1500000</td>\n",
       "      <td>1376316046000</td>\n",
       "      <td>bb1ad573-19b8-9cd8-0000-000000000000</td>\n",
       "      <td>H01</td>\n",
       "      <td>1</td>\n",
       "      <td>128000</td>\n",
       "      <td>0</td>\n",
       "      <td>7</td>\n",
       "      <td>0</td>\n",
       "      <td>0</td>\n",
       "      <td>...</td>\n",
       "      <td>0</td>\n",
       "      <td>0</td>\n",
       "      <td>200.595958</td>\n",
       "      <td>60178.787398</td>\n",
       "      <td>0.0</td>\n",
       "      <td>0.0</td>\n",
       "      <td>300000</td>\n",
       "      <td>0</td>\n",
       "      <td>1376314546000</td>\n",
       "      <td>NaN</td>\n",
       "    </tr>\n",
       "    <tr>\n",
       "      <th>...</th>\n",
       "      <td>...</td>\n",
       "      <td>...</td>\n",
       "      <td>...</td>\n",
       "      <td>...</td>\n",
       "      <td>...</td>\n",
       "      <td>...</td>\n",
       "      <td>...</td>\n",
       "      <td>...</td>\n",
       "      <td>...</td>\n",
       "      <td>...</td>\n",
       "      <td>...</td>\n",
       "      <td>...</td>\n",
       "      <td>...</td>\n",
       "      <td>...</td>\n",
       "      <td>...</td>\n",
       "      <td>...</td>\n",
       "      <td>...</td>\n",
       "      <td>...</td>\n",
       "      <td>...</td>\n",
       "      <td>...</td>\n",
       "      <td>...</td>\n",
       "    </tr>\n",
       "    <tr>\n",
       "      <th>185025</th>\n",
       "      <td>55507800000</td>\n",
       "      <td>1431822346000</td>\n",
       "      <td>bb1ad573-19b8-9cd8-0000-000000000000</td>\n",
       "      <td>H01</td>\n",
       "      <td>1</td>\n",
       "      <td>128000</td>\n",
       "      <td>0</td>\n",
       "      <td>1</td>\n",
       "      <td>0</td>\n",
       "      <td>0</td>\n",
       "      <td>...</td>\n",
       "      <td>0</td>\n",
       "      <td>0</td>\n",
       "      <td>200.000253</td>\n",
       "      <td>60015.986069</td>\n",
       "      <td>0.0</td>\n",
       "      <td>0.0</td>\n",
       "      <td>300000</td>\n",
       "      <td>0</td>\n",
       "      <td>1376314546000</td>\n",
       "      <td>NaN</td>\n",
       "    </tr>\n",
       "    <tr>\n",
       "      <th>185026</th>\n",
       "      <td>55508100000</td>\n",
       "      <td>1431822646000</td>\n",
       "      <td>bb1ad573-19b8-9cd8-0000-000000000000</td>\n",
       "      <td>H01</td>\n",
       "      <td>1</td>\n",
       "      <td>128000</td>\n",
       "      <td>0</td>\n",
       "      <td>1</td>\n",
       "      <td>0</td>\n",
       "      <td>0</td>\n",
       "      <td>...</td>\n",
       "      <td>0</td>\n",
       "      <td>0</td>\n",
       "      <td>200.000253</td>\n",
       "      <td>60000.075947</td>\n",
       "      <td>0.0</td>\n",
       "      <td>0.0</td>\n",
       "      <td>300000</td>\n",
       "      <td>0</td>\n",
       "      <td>1376314546000</td>\n",
       "      <td>NaN</td>\n",
       "    </tr>\n",
       "    <tr>\n",
       "      <th>185027</th>\n",
       "      <td>55508400000</td>\n",
       "      <td>1431822946000</td>\n",
       "      <td>bb1ad573-19b8-9cd8-0000-000000000000</td>\n",
       "      <td>H01</td>\n",
       "      <td>1</td>\n",
       "      <td>128000</td>\n",
       "      <td>0</td>\n",
       "      <td>1</td>\n",
       "      <td>0</td>\n",
       "      <td>0</td>\n",
       "      <td>...</td>\n",
       "      <td>0</td>\n",
       "      <td>0</td>\n",
       "      <td>200.091691</td>\n",
       "      <td>60011.597071</td>\n",
       "      <td>0.0</td>\n",
       "      <td>0.0</td>\n",
       "      <td>300000</td>\n",
       "      <td>0</td>\n",
       "      <td>1376314546000</td>\n",
       "      <td>NaN</td>\n",
       "    </tr>\n",
       "    <tr>\n",
       "      <th>185028</th>\n",
       "      <td>55508700000</td>\n",
       "      <td>1431823246000</td>\n",
       "      <td>bb1ad573-19b8-9cd8-0000-000000000000</td>\n",
       "      <td>H01</td>\n",
       "      <td>1</td>\n",
       "      <td>128000</td>\n",
       "      <td>0</td>\n",
       "      <td>1</td>\n",
       "      <td>0</td>\n",
       "      <td>0</td>\n",
       "      <td>...</td>\n",
       "      <td>0</td>\n",
       "      <td>0</td>\n",
       "      <td>200.000253</td>\n",
       "      <td>60015.986069</td>\n",
       "      <td>0.0</td>\n",
       "      <td>0.0</td>\n",
       "      <td>300000</td>\n",
       "      <td>0</td>\n",
       "      <td>1376314546000</td>\n",
       "      <td>NaN</td>\n",
       "    </tr>\n",
       "    <tr>\n",
       "      <th>185029</th>\n",
       "      <td>55508874000</td>\n",
       "      <td>1431823420000</td>\n",
       "      <td>bb1ad573-19b8-9cd8-0000-000000000000</td>\n",
       "      <td>H01</td>\n",
       "      <td>1</td>\n",
       "      <td>128000</td>\n",
       "      <td>0</td>\n",
       "      <td>0</td>\n",
       "      <td>0</td>\n",
       "      <td>0</td>\n",
       "      <td>...</td>\n",
       "      <td>0</td>\n",
       "      <td>0</td>\n",
       "      <td>200.000253</td>\n",
       "      <td>34800.044050</td>\n",
       "      <td>0.0</td>\n",
       "      <td>0.0</td>\n",
       "      <td>174000</td>\n",
       "      <td>0</td>\n",
       "      <td>1376314546000</td>\n",
       "      <td>NaN</td>\n",
       "    </tr>\n",
       "  </tbody>\n",
       "</table>\n",
       "<p>185030 rows × 26 columns</p>\n",
       "</div>"
      ],
      "text/plain": [
       "          timestamp  timestamp_absolute                               host_id  \\\n",
       "0            300000       1376314846000  bb1ad573-19b8-9cd8-0000-000000000000   \n",
       "1            600000       1376315146000  bb1ad573-19b8-9cd8-0000-000000000000   \n",
       "2            900000       1376315446000  bb1ad573-19b8-9cd8-0000-000000000000   \n",
       "3           1200000       1376315746000  bb1ad573-19b8-9cd8-0000-000000000000   \n",
       "4           1500000       1376316046000  bb1ad573-19b8-9cd8-0000-000000000000   \n",
       "...             ...                 ...                                   ...   \n",
       "185025  55507800000       1431822346000  bb1ad573-19b8-9cd8-0000-000000000000   \n",
       "185026  55508100000       1431822646000  bb1ad573-19b8-9cd8-0000-000000000000   \n",
       "185027  55508400000       1431822946000  bb1ad573-19b8-9cd8-0000-000000000000   \n",
       "185028  55508700000       1431823246000  bb1ad573-19b8-9cd8-0000-000000000000   \n",
       "185029  55508874000       1431823420000  bb1ad573-19b8-9cd8-0000-000000000000   \n",
       "\n",
       "       host_name  cpu_count  mem_capacity  guests_terminated  guests_running  \\\n",
       "0            H01          1        128000                  0               7   \n",
       "1            H01          1        128000                  0               7   \n",
       "2            H01          1        128000                  0               7   \n",
       "3            H01          1        128000                  0               7   \n",
       "4            H01          1        128000                  0               7   \n",
       "...          ...        ...           ...                ...             ...   \n",
       "185025       H01          1        128000                  0               1   \n",
       "185026       H01          1        128000                  0               1   \n",
       "185027       H01          1        128000                  0               1   \n",
       "185028       H01          1        128000                  0               1   \n",
       "185029       H01          1        128000                  0               0   \n",
       "\n",
       "        guests_error  guests_invalid  ...  cpu_time_steal  cpu_time_lost  \\\n",
       "0                  0               0  ...               5              0   \n",
       "1                  0               0  ...               0              0   \n",
       "2                  0               0  ...               0              0   \n",
       "3                  0               0  ...               0              0   \n",
       "4                  0               0  ...               0              0   \n",
       "...              ...             ...  ...             ...            ...   \n",
       "185025             0               0  ...               0              0   \n",
       "185026             0               0  ...               0              0   \n",
       "185027             0               0  ...               0              0   \n",
       "185028             0               0  ...               0              0   \n",
       "185029             0               0  ...               0              0   \n",
       "\n",
       "        power_draw  energy_usage  carbon_intensity  carbon_emission  uptime  \\\n",
       "0       200.375854  60112.955856               0.0              0.0  300000   \n",
       "1       200.697541  60209.262443               0.0              0.0  300000   \n",
       "2       200.460500  60138.149947               0.0              0.0  300000   \n",
       "3       200.558729  60167.618680               0.0              0.0  300000   \n",
       "4       200.595958  60178.787398               0.0              0.0  300000   \n",
       "...            ...           ...               ...              ...     ...   \n",
       "185025  200.000253  60015.986069               0.0              0.0  300000   \n",
       "185026  200.000253  60000.075947               0.0              0.0  300000   \n",
       "185027  200.091691  60011.597071               0.0              0.0  300000   \n",
       "185028  200.000253  60015.986069               0.0              0.0  300000   \n",
       "185029  200.000253  34800.044050               0.0              0.0  174000   \n",
       "\n",
       "        downtime      boot_time  boot_time_absolute  \n",
       "0              0  1376314546000                 NaN  \n",
       "1              0  1376314546000                 NaN  \n",
       "2              0  1376314546000                 NaN  \n",
       "3              0  1376314546000                 NaN  \n",
       "4              0  1376314546000                 NaN  \n",
       "...          ...            ...                 ...  \n",
       "185025         0  1376314546000                 NaN  \n",
       "185026         0  1376314546000                 NaN  \n",
       "185027         0  1376314546000                 NaN  \n",
       "185028         0  1376314546000                 NaN  \n",
       "185029         0  1376314546000                 NaN  \n",
       "\n",
       "[185030 rows x 26 columns]"
      ]
     },
     "execution_count": 3,
     "metadata": {},
     "output_type": "execute_result"
    }
   ],
   "source": [
    "df_host_single = pd.read_parquet(f\"{output_folder}/with-net-new-new/raw-output/0/{seed}/host.parquet\")\n",
    "df_host_single"
   ]
  },
  {
   "cell_type": "code",
   "execution_count": 4,
   "id": "d6fb41d9",
   "metadata": {},
   "outputs": [
    {
     "data": {
      "text/plain": [
       "Timedelta('0 days 00:05:00')"
      ]
     },
     "execution_count": 4,
     "metadata": {},
     "output_type": "execute_result"
    }
   ],
   "source": [
    "pd.Timedelta(300000, unit=\"ms\")"
   ]
  },
  {
   "cell_type": "code",
   "execution_count": 6,
   "id": "3c271734",
   "metadata": {},
   "outputs": [
    {
     "ename": "AttributeError",
     "evalue": "'Series' object has no attribute 'to_pytimedelta'",
     "output_type": "error",
     "traceback": [
      "\u001b[0;31m---------------------------------------------------------------------------\u001b[0m",
      "\u001b[0;31mAttributeError\u001b[0m                            Traceback (most recent call last)",
      "\u001b[0;32m/tmp/ipykernel_1200126/3428839105.py\u001b[0m in \u001b[0;36m?\u001b[0;34m()\u001b[0m\n\u001b[0;32m----> 1\u001b[0;31m \u001b[0mdf_host_single\u001b[0m\u001b[0;34m.\u001b[0m\u001b[0mtimestamp\u001b[0m\u001b[0;34m.\u001b[0m\u001b[0mto_pytimedelta\u001b[0m\u001b[0;34m(\u001b[0m\u001b[0;34m)\u001b[0m\u001b[0;34m\u001b[0m\u001b[0;34m\u001b[0m\u001b[0m\n\u001b[0m",
      "\u001b[0;32m~/.local/lib/python3.10/site-packages/pandas/core/generic.py\u001b[0m in \u001b[0;36m?\u001b[0;34m(self, name)\u001b[0m\n\u001b[1;32m   6295\u001b[0m             \u001b[0;32mand\u001b[0m \u001b[0mname\u001b[0m \u001b[0;32mnot\u001b[0m \u001b[0;32min\u001b[0m \u001b[0mself\u001b[0m\u001b[0;34m.\u001b[0m\u001b[0m_accessors\u001b[0m\u001b[0;34m\u001b[0m\u001b[0;34m\u001b[0m\u001b[0m\n\u001b[1;32m   6296\u001b[0m             \u001b[0;32mand\u001b[0m \u001b[0mself\u001b[0m\u001b[0;34m.\u001b[0m\u001b[0m_info_axis\u001b[0m\u001b[0;34m.\u001b[0m\u001b[0m_can_hold_identifiers_and_holds_name\u001b[0m\u001b[0;34m(\u001b[0m\u001b[0mname\u001b[0m\u001b[0;34m)\u001b[0m\u001b[0;34m\u001b[0m\u001b[0;34m\u001b[0m\u001b[0m\n\u001b[1;32m   6297\u001b[0m         ):\n\u001b[1;32m   6298\u001b[0m             \u001b[0;32mreturn\u001b[0m \u001b[0mself\u001b[0m\u001b[0;34m[\u001b[0m\u001b[0mname\u001b[0m\u001b[0;34m]\u001b[0m\u001b[0;34m\u001b[0m\u001b[0;34m\u001b[0m\u001b[0m\n\u001b[0;32m-> 6299\u001b[0;31m         \u001b[0;32mreturn\u001b[0m \u001b[0mobject\u001b[0m\u001b[0;34m.\u001b[0m\u001b[0m__getattribute__\u001b[0m\u001b[0;34m(\u001b[0m\u001b[0mself\u001b[0m\u001b[0;34m,\u001b[0m \u001b[0mname\u001b[0m\u001b[0;34m)\u001b[0m\u001b[0;34m\u001b[0m\u001b[0;34m\u001b[0m\u001b[0m\n\u001b[0m",
      "\u001b[0;31mAttributeError\u001b[0m: 'Series' object has no attribute 'to_pytimedelta'"
     ]
    }
   ],
   "source": [
    "df_host_single.timestamp.to_pytimedelta()"
   ]
  },
  {
   "cell_type": "code",
   "execution_count": 5,
   "id": "89977c44",
   "metadata": {},
   "outputs": [
    {
     "data": {
      "text/plain": [
       "0              300000\n",
       "1              600000\n",
       "2              900000\n",
       "3             1200000\n",
       "4             1500000\n",
       "             ...     \n",
       "185025    55507800000\n",
       "185026    55508100000\n",
       "185027    55508400000\n",
       "185028    55508700000\n",
       "185029    55508874000\n",
       "Name: timestamp, Length: 185030, dtype: int64"
      ]
     },
     "execution_count": 5,
     "metadata": {},
     "output_type": "execute_result"
    }
   ],
   "source": [
    "df_host_single.timestamp"
   ]
  },
  {
   "cell_type": "code",
   "execution_count": 6,
   "id": "eadd08e4",
   "metadata": {},
   "outputs": [
    {
     "data": {
      "text/plain": [
       "timestamp\n",
       "300000         1\n",
       "37004100000    1\n",
       "37004700000    1\n",
       "37005000000    1\n",
       "37005300000    1\n",
       "              ..\n",
       "18503700000    1\n",
       "18504000000    1\n",
       "18504300000    1\n",
       "18504600000    1\n",
       "55508874000    1\n",
       "Name: count, Length: 185030, dtype: int64"
      ]
     },
     "execution_count": 6,
     "metadata": {},
     "output_type": "execute_result"
    }
   ],
   "source": [
    "df_service_single.timestamp.value_counts()"
   ]
  },
  {
   "cell_type": "code",
   "execution_count": 7,
   "id": "a32f9d66",
   "metadata": {},
   "outputs": [
    {
     "data": {
      "text/plain": [
       "array([44, 45, 46, 47, 48, 49, 50, 43, 42, 41, 40, 39, 38, 37, 36, 35, 34,\n",
       "       31, 29, 27, 25, 24, 23, 22, 19, 18, 17, 16, 15, 14, 13, 12, 10,  9,\n",
       "        8,  7,  6,  5,  4,  3,  2,  1,  0], dtype=int32)"
      ]
     },
     "execution_count": 7,
     "metadata": {},
     "output_type": "execute_result"
    }
   ],
   "source": [
    "(df_service_single.servers_active + df_service_single.servers_pending).unique() "
   ]
  },
  {
   "cell_type": "code",
   "execution_count": 29,
   "id": "16f4a6b6",
   "metadata": {},
   "outputs": [
    {
     "ename": "NameError",
     "evalue": "name 'd1' is not defined",
     "output_type": "error",
     "traceback": [
      "\u001b[0;31m---------------------------------------------------------------------------\u001b[0m",
      "\u001b[0;31mNameError\u001b[0m                                 Traceback (most recent call last)",
      "Cell \u001b[0;32mIn[29], line 1\u001b[0m\n\u001b[0;32m----> 1\u001b[0m \u001b[38;5;28mset\u001b[39m(\u001b[43md1\u001b[49m) \u001b[38;5;241m==\u001b[39m \u001b[38;5;28mset\u001b[39m(d2)\n",
      "\u001b[0;31mNameError\u001b[0m: name 'd1' is not defined"
     ]
    }
   ],
   "source": [
    "set(d1) == set(d2)"
   ]
  },
  {
   "cell_type": "markdown",
   "id": "09d31c91",
   "metadata": {},
   "source": [
    "## Power Usage"
   ]
  },
  {
   "cell_type": "code",
   "execution_count": 8,
   "id": "82f0a24a",
   "metadata": {},
   "outputs": [
    {
     "name": "stdout",
     "output_type": "stream",
     "text": [
      "single topology:  12682436711.55545\n"
     ]
    }
   ],
   "source": [
    "print(f\"single topology:  {df_host_single.energy_usage.sum()}\")\n",
    "# print(f\"multi topology:   {df_host_multi.power_total.sum()}\")"
   ]
  },
  {
   "cell_type": "markdown",
   "id": "7ab3357d",
   "metadata": {},
   "source": [
    "## CPU usage"
   ]
  },
  {
   "cell_type": "code",
   "execution_count": 9,
   "id": "e94db3a6",
   "metadata": {},
   "outputs": [
    {
     "name": "stdout",
     "output_type": "stream",
     "text": [
      "single topology:  0.017797920412917976\n"
     ]
    }
   ],
   "source": [
    "print(f\"single topology:  {df_host_single.cpu_utilization.mean()}\")\n",
    "# print(f\"multi topology:   {df_host_multi.cpu_utilization.mean()}\")"
   ]
  },
  {
   "cell_type": "markdown",
   "id": "e000a260",
   "metadata": {},
   "source": [
    "## CPU utilization"
   ]
  },
  {
   "cell_type": "code",
   "execution_count": 10,
   "id": "8d7daa45",
   "metadata": {},
   "outputs": [
    {
     "name": "stdout",
     "output_type": "stream",
     "text": [
      "single topology:  0.017797920412917976\n"
     ]
    }
   ],
   "source": [
    "print(f\"single topology:  {df_host_single.cpu_utilization.mean()}\")\n",
    "# print(f\"multi topology:   {df_host_multi.cpu_utilization.mean()}\")"
   ]
  },
  {
   "cell_type": "markdown",
   "id": "ad97741c",
   "metadata": {},
   "source": [
    "## Plotting Results"
   ]
  },
  {
   "cell_type": "code",
   "execution_count": 11,
   "id": "5df8f9aa",
   "metadata": {},
   "outputs": [
    {
     "data": {
      "image/png": "[encoded data removed]",
      "text/plain": [
       "<Figure size 640x480 with 1 Axes>"
      ]
     },
     "metadata": {},
     "output_type": "display_data"
    }
   ],
   "source": [
    "# data = df_host_multi.cpu_utilization\n",
    "# plt.hist(data, weights=np.ones_like(data) / len(data),\n",
    "#          alpha=0.7, label=\"multi\", bins=30)\n",
    "\n",
    "\n",
    "data = df_host_single.cpu_utilization\n",
    "plt.hist(data, weights=np.ones_like(data) / len(data),\n",
    "         alpha=0.7, label=\"single\", bins=30)\n",
    "\n",
    "plt.xlabel(\"CPU utilization\")\n",
    "plt.ylabel(\"Frequency\")\n",
    "plt.legend()\n",
    "plt.show()"
   ]
  },
  {
   "cell_type": "code",
   "execution_count": 12,
   "id": "42c0c638",
   "metadata": {},
   "outputs": [
    {
     "data": {
      "text/plain": [
       "<matplotlib.legend.Legend at 0x707f4617bfd0>"
      ]
     },
     "execution_count": 12,
     "metadata": {},
     "output_type": "execute_result"
    },
    {
     "data": {
      "image/png": "[encoded data removed]",
      "text/plain": [
       "<Figure size 640x480 with 1 Axes>"
      ]
     },
     "metadata": {},
     "output_type": "display_data"
    }
   ],
   "source": [
    "import matplotlib.pyplot as plt\n",
    "\n",
    "plt.plot(df_service_single.servers_pending, label=\"servers pending\")\n",
    "plt.plot(df_service_single.servers_active, label=\"servers active\")\n",
    "\n",
    "plt.legend()"
   ]
  },
  {
   "cell_type": "code",
   "execution_count": 54,
   "id": "1a688c2d",
   "metadata": {},
   "outputs": [
    {
     "ename": "NameError",
     "evalue": "name 'df_service_multi' is not defined",
     "output_type": "error",
     "traceback": [
      "\u001b[0;31m---------------------------------------------------------------------------\u001b[0m",
      "\u001b[0;31mNameError\u001b[0m                                 Traceback (most recent call last)",
      "Cell \u001b[0;32mIn[54], line 3\u001b[0m\n\u001b[1;32m      1\u001b[0m \u001b[38;5;28;01mimport\u001b[39;00m \u001b[38;5;21;01mmatplotlib\u001b[39;00m\u001b[38;5;21;01m.\u001b[39;00m\u001b[38;5;21;01mpyplot\u001b[39;00m \u001b[38;5;28;01mas\u001b[39;00m \u001b[38;5;21;01mplt\u001b[39;00m\n\u001b[0;32m----> 3\u001b[0m plt\u001b[38;5;241m.\u001b[39mplot(\u001b[43mdf_service_multi\u001b[49m\u001b[38;5;241m.\u001b[39mservers_pending, label\u001b[38;5;241m=\u001b[39m\u001b[38;5;124m\"\u001b[39m\u001b[38;5;124mservers pending\u001b[39m\u001b[38;5;124m\"\u001b[39m)\n\u001b[1;32m      4\u001b[0m plt\u001b[38;5;241m.\u001b[39mplot(df_service_multi\u001b[38;5;241m.\u001b[39mservers_active, label\u001b[38;5;241m=\u001b[39m\u001b[38;5;124m\"\u001b[39m\u001b[38;5;124mservers active\u001b[39m\u001b[38;5;124m\"\u001b[39m)\n\u001b[1;32m      6\u001b[0m plt\u001b[38;5;241m.\u001b[39mlegend()\n",
      "\u001b[0;31mNameError\u001b[0m: name 'df_service_multi' is not defined"
     ]
    }
   ],
   "source": [
    "import matplotlib.pyplot as plt\n",
    "\n",
    "plt.plot(df_service_multi.servers_pending, label=\"servers pending\")\n",
    "plt.plot(df_service_multi.servers_active, label=\"servers active\")\n",
    "\n",
    "plt.legend()"
   ]
  },
  {
   "cell_type": "code",
   "execution_count": 156,
   "id": "dc4e17cd",
   "metadata": {},
   "outputs": [
    {
     "data": {
      "text/html": [
       "<div>\n",
       "<style scoped>\n",
       "    .dataframe tbody tr th:only-of-type {\n",
       "        vertical-align: middle;\n",
       "    }\n",
       "\n",
       "    .dataframe tbody tr th {\n",
       "        vertical-align: top;\n",
       "    }\n",
       "\n",
       "    .dataframe thead th {\n",
       "        text-align: right;\n",
       "    }\n",
       "</style>\n",
       "<table border=\"1\" class=\"dataframe\">\n",
       "  <thead>\n",
       "    <tr style=\"text-align: right;\">\n",
       "      <th></th>\n",
       "      <th>timestamp</th>\n",
       "      <th>server_id</th>\n",
       "      <th>host_id</th>\n",
       "      <th>mem_capacity</th>\n",
       "      <th>cpu_count</th>\n",
       "      <th>cpu_limit</th>\n",
       "      <th>cpu_time_active</th>\n",
       "      <th>cpu_time_idle</th>\n",
       "      <th>cpu_time_steal</th>\n",
       "      <th>cpu_time_lost</th>\n",
       "      <th>uptime</th>\n",
       "      <th>downtime</th>\n",
       "      <th>provision_time</th>\n",
       "      <th>boot_time</th>\n",
       "      <th>absolute_timestamp</th>\n",
       "    </tr>\n",
       "  </thead>\n",
       "  <tbody>\n",
       "    <tr>\n",
       "      <th>0</th>\n",
       "      <td>1970-01-01 00:05:00+00:00</td>\n",
       "      <td>b'\\x00\\x00\\x00\\x00\\x00\\x00\\x00\\x00\\x06\\xc4]\\x1...</td>\n",
       "      <td>b'\\xe2 \\xa89{\\x1d\\xcd\\xaf\\x00\\x00\\x00\\x00\\x00\\...</td>\n",
       "      <td>181</td>\n",
       "      <td>1</td>\n",
       "      <td>25600.0</td>\n",
       "      <td>0</td>\n",
       "      <td>2624</td>\n",
       "      <td>0</td>\n",
       "      <td>0</td>\n",
       "      <td>300000</td>\n",
       "      <td>0</td>\n",
       "      <td>1970-01-01 00:00:00+00:00</td>\n",
       "      <td>1970-01-01 00:00:00+00:00</td>\n",
       "      <td>2013-08-12 13:35:46+00:00</td>\n",
       "    </tr>\n",
       "    <tr>\n",
       "      <th>1</th>\n",
       "      <td>1970-01-01 00:05:00+00:00</td>\n",
       "      <td>b'\\x00\\x00\\x00\\x00\\x00\\x00\\x00\\x00\\x1b9\\x89jQ\\...</td>\n",
       "      <td>b'\\xe2 \\xa89{\\x1d\\xcd\\xaf\\x00\\x00\\x00\\x00\\x00\\...</td>\n",
       "      <td>260</td>\n",
       "      <td>1</td>\n",
       "      <td>25600.0</td>\n",
       "      <td>0</td>\n",
       "      <td>2624</td>\n",
       "      <td>0</td>\n",
       "      <td>0</td>\n",
       "      <td>300000</td>\n",
       "      <td>0</td>\n",
       "      <td>1970-01-01 00:00:00+00:00</td>\n",
       "      <td>1970-01-01 00:00:00+00:00</td>\n",
       "      <td>2013-08-12 13:35:46+00:00</td>\n",
       "    </tr>\n",
       "    <tr>\n",
       "      <th>2</th>\n",
       "      <td>1970-01-01 00:05:00+00:00</td>\n",
       "      <td>b'\\x00\\x00\\x00\\x00\\x00\\x00\\x00\\x00,\\x82\\x9a\\xb...</td>\n",
       "      <td>b'\\xe2 \\xa89{\\x1d\\xcd\\xaf\\x00\\x00\\x00\\x00\\x00\\...</td>\n",
       "      <td>250</td>\n",
       "      <td>1</td>\n",
       "      <td>25600.0</td>\n",
       "      <td>2</td>\n",
       "      <td>2622</td>\n",
       "      <td>0</td>\n",
       "      <td>0</td>\n",
       "      <td>300000</td>\n",
       "      <td>0</td>\n",
       "      <td>1970-01-01 00:00:00+00:00</td>\n",
       "      <td>1970-01-01 00:00:00+00:00</td>\n",
       "      <td>2013-08-12 13:35:46+00:00</td>\n",
       "    </tr>\n",
       "    <tr>\n",
       "      <th>3</th>\n",
       "      <td>1970-01-01 00:05:00+00:00</td>\n",
       "      <td>b'\\x00\\x00\\x00\\x00\\x00\\x00\\x00\\x00&gt;\\xe5x\\x90A\\...</td>\n",
       "      <td>b'\\xe2 \\xa89{\\x1d\\xcd\\xaf\\x00\\x00\\x00\\x00\\x00\\...</td>\n",
       "      <td>125</td>\n",
       "      <td>1</td>\n",
       "      <td>25600.0</td>\n",
       "      <td>0</td>\n",
       "      <td>2624</td>\n",
       "      <td>0</td>\n",
       "      <td>0</td>\n",
       "      <td>300000</td>\n",
       "      <td>0</td>\n",
       "      <td>1970-01-01 00:00:00+00:00</td>\n",
       "      <td>1970-01-01 00:00:00+00:00</td>\n",
       "      <td>2013-08-12 13:35:46+00:00</td>\n",
       "    </tr>\n",
       "    <tr>\n",
       "      <th>4</th>\n",
       "      <td>1970-01-01 00:05:00+00:00</td>\n",
       "      <td>b'\\x00\\x00\\x00\\x00\\x00\\x00\\x00\\x00e~\\xec\\xdd&lt;\\...</td>\n",
       "      <td>b'\\xe2 \\xa89{\\x1d\\xcd\\xaf\\x00\\x00\\x00\\x00\\x00\\...</td>\n",
       "      <td>157</td>\n",
       "      <td>1</td>\n",
       "      <td>25600.0</td>\n",
       "      <td>2</td>\n",
       "      <td>2951</td>\n",
       "      <td>0</td>\n",
       "      <td>0</td>\n",
       "      <td>300000</td>\n",
       "      <td>0</td>\n",
       "      <td>1970-01-01 00:00:00+00:00</td>\n",
       "      <td>1970-01-01 00:00:00+00:00</td>\n",
       "      <td>2013-08-12 13:35:46+00:00</td>\n",
       "    </tr>\n",
       "  </tbody>\n",
       "</table>\n",
       "</div>"
      ],
      "text/plain": [
       "                  timestamp  \\\n",
       "0 1970-01-01 00:05:00+00:00   \n",
       "1 1970-01-01 00:05:00+00:00   \n",
       "2 1970-01-01 00:05:00+00:00   \n",
       "3 1970-01-01 00:05:00+00:00   \n",
       "4 1970-01-01 00:05:00+00:00   \n",
       "\n",
       "                                           server_id  \\\n",
       "0  b'\\x00\\x00\\x00\\x00\\x00\\x00\\x00\\x00\\x06\\xc4]\\x1...   \n",
       "1  b'\\x00\\x00\\x00\\x00\\x00\\x00\\x00\\x00\\x1b9\\x89jQ\\...   \n",
       "2  b'\\x00\\x00\\x00\\x00\\x00\\x00\\x00\\x00,\\x82\\x9a\\xb...   \n",
       "3  b'\\x00\\x00\\x00\\x00\\x00\\x00\\x00\\x00>\\xe5x\\x90A\\...   \n",
       "4  b'\\x00\\x00\\x00\\x00\\x00\\x00\\x00\\x00e~\\xec\\xdd<\\...   \n",
       "\n",
       "                                             host_id  mem_capacity  cpu_count  \\\n",
       "0  b'\\xe2 \\xa89{\\x1d\\xcd\\xaf\\x00\\x00\\x00\\x00\\x00\\...           181          1   \n",
       "1  b'\\xe2 \\xa89{\\x1d\\xcd\\xaf\\x00\\x00\\x00\\x00\\x00\\...           260          1   \n",
       "2  b'\\xe2 \\xa89{\\x1d\\xcd\\xaf\\x00\\x00\\x00\\x00\\x00\\...           250          1   \n",
       "3  b'\\xe2 \\xa89{\\x1d\\xcd\\xaf\\x00\\x00\\x00\\x00\\x00\\...           125          1   \n",
       "4  b'\\xe2 \\xa89{\\x1d\\xcd\\xaf\\x00\\x00\\x00\\x00\\x00\\...           157          1   \n",
       "\n",
       "   cpu_limit  cpu_time_active  cpu_time_idle  cpu_time_steal  cpu_time_lost  \\\n",
       "0    25600.0                0           2624               0              0   \n",
       "1    25600.0                0           2624               0              0   \n",
       "2    25600.0                2           2622               0              0   \n",
       "3    25600.0                0           2624               0              0   \n",
       "4    25600.0                2           2951               0              0   \n",
       "\n",
       "   uptime  downtime            provision_time                 boot_time  \\\n",
       "0  300000         0 1970-01-01 00:00:00+00:00 1970-01-01 00:00:00+00:00   \n",
       "1  300000         0 1970-01-01 00:00:00+00:00 1970-01-01 00:00:00+00:00   \n",
       "2  300000         0 1970-01-01 00:00:00+00:00 1970-01-01 00:00:00+00:00   \n",
       "3  300000         0 1970-01-01 00:00:00+00:00 1970-01-01 00:00:00+00:00   \n",
       "4  300000         0 1970-01-01 00:00:00+00:00 1970-01-01 00:00:00+00:00   \n",
       "\n",
       "         absolute_timestamp  \n",
       "0 2013-08-12 13:35:46+00:00  \n",
       "1 2013-08-12 13:35:46+00:00  \n",
       "2 2013-08-12 13:35:46+00:00  \n",
       "3 2013-08-12 13:35:46+00:00  \n",
       "4 2013-08-12 13:35:46+00:00  "
      ]
     },
     "execution_count": 156,
     "metadata": {},
     "output_type": "execute_result"
    }
   ],
   "source": [
    "df_server_single.head()"
   ]
  },
  {
   "cell_type": "code",
   "execution_count": 14,
   "id": "b0e6c7bf",
   "metadata": {},
   "outputs": [],
   "source": [
    "utilization = df_host_single.cpu_utilization.to_numpy()"
   ]
  },
  {
   "cell_type": "code",
   "execution_count": 15,
   "id": "aea7b79d",
   "metadata": {},
   "outputs": [
    {
     "data": {
      "text/plain": [
       "[<matplotlib.lines.Line2D at 0x707f3f940c70>]"
      ]
     },
     "execution_count": 15,
     "metadata": {},
     "output_type": "execute_result"
    },
    {
     "data": {
      "image/png": "[encoded data removed]",
      "text/plain": [
       "<Figure size 640x480 with 1 Axes>"
      ]
     },
     "metadata": {},
     "output_type": "display_data"
    }
   ],
   "source": [
    "window = 2000\n",
    "avg_utilization = []\n",
    "\n",
    "for ind in range(len(utilization) - window + 1):\n",
    "    avg_utilization.append(np.mean(utilization[ind:ind+window]))\n",
    "    \n",
    "plt.plot(avg_utilization)"
   ]
  },
  {
   "cell_type": "code",
   "execution_count": 57,
   "id": "575f824b",
   "metadata": {},
   "outputs": [
    {
     "data": {
      "text/plain": [
       "[<matplotlib.lines.Line2D at 0x73b658129660>]"
      ]
     },
     "execution_count": 57,
     "metadata": {},
     "output_type": "execute_result"
    },
    {
     "data": {
      "image/png": "[encoded data removed]",
      "text/plain": [
       "<Figure size 640x480 with 1 Axes>"
      ]
     },
     "metadata": {},
     "output_type": "display_data"
    }
   ],
   "source": [
    "sum_util = []\n",
    "\n",
    "last_util = 0\n",
    "for util in utilization:\n",
    "    sum_util.append(util + last_util)\n",
    "    last_util = sum_util[-1]\n",
    "    \n",
    "plt.plot(sum_util)"
   ]
  },
  {
   "cell_type": "code",
   "execution_count": 58,
   "id": "d99dfce2",
   "metadata": {},
   "outputs": [
    {
     "ename": "NameError",
     "evalue": "name 'Path' is not defined",
     "output_type": "error",
     "traceback": [
      "\u001b[0;31m---------------------------------------------------------------------------\u001b[0m",
      "\u001b[0;31mNameError\u001b[0m                                 Traceback (most recent call last)",
      "Cell \u001b[0;32mIn[58], line 2\u001b[0m\n\u001b[1;32m      1\u001b[0m output_file \u001b[38;5;241m=\u001b[39m \u001b[38;5;124m\"\u001b[39m\u001b[38;5;124m../Python_scripts/meta_small.parquet\u001b[39m\u001b[38;5;124m\"\u001b[39m\n\u001b[0;32m----> 2\u001b[0m output_file_path \u001b[38;5;241m=\u001b[39m \u001b[43mPath\u001b[49m(output_file)\n\u001b[1;32m      4\u001b[0m df_meta_new\u001b[38;5;241m.\u001b[39mto_parquet(output_file_path, index\u001b[38;5;241m=\u001b[39m\u001b[38;5;28;01mFalse\u001b[39;00m)\n\u001b[1;32m      6\u001b[0m output_file \u001b[38;5;241m=\u001b[39m \u001b[38;5;124m\"\u001b[39m\u001b[38;5;124m../Python_scripts/trace_small.parquet\u001b[39m\u001b[38;5;124m\"\u001b[39m\n",
      "\u001b[0;31mNameError\u001b[0m: name 'Path' is not defined"
     ]
    }
   ],
   "source": [
    "output_file = \"../Python_scripts/meta_small.parquet\"\n",
    "output_file_path = Path(output_file)\n",
    "\n",
    "df_meta_new.to_parquet(output_file_path, index=False)\n",
    "\n",
    "output_file = \"../Python_scripts/trace_small.parquet\"\n",
    "output_file_path = Path(output_file)\n",
    "df_trace_new.to_parquet(output_file_path, index=False)"
   ]
  }
 ],
 "metadata": {
  "kernelspec": {
   "display_name": "Python 3 (ipykernel)",
   "language": "python",
   "name": "python3"
  },
  "language_info": {
   "codemirror_mode": {
    "name": "ipython",
    "version": 3
   },
   "file_extension": ".py",
   "mimetype": "text/x-python",
   "name": "python",
   "nbconvert_exporter": "python",
   "pygments_lexer": "ipython3",
   "version": "3.10.12"
  }
 },
 "nbformat": 4,
 "nbformat_minor": 5
}
